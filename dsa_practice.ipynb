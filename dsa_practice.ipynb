{
 "cells": [
  {
   "cell_type": "code",
   "execution_count": null,
   "metadata": {},
   "outputs": [],
   "source": [
    "#write a function that returns the sum of given list\n",
    "\n",
    "def sum_of_list(nums):\n",
    "    return sum(nums)"
   ]
  },
  {
   "cell_type": "code",
   "execution_count": 8,
   "metadata": {},
   "outputs": [
    {
     "name": "stdout",
     "output_type": "stream",
     "text": [
      "olleh\n"
     ]
    }
   ],
   "source": [
    "# function to reverse a string\n",
    "\n",
    "def reverse_string(given_string):\n",
    "    return given_string[::-1]\n",
    "\n",
    "\n",
    "print(reverse_string(\"hello\"))"
   ]
  },
  {
   "cell_type": "code",
   "execution_count": 11,
   "metadata": {},
   "outputs": [
    {
     "name": "stdout",
     "output_type": "stream",
     "text": [
      "True\n"
     ]
    }
   ],
   "source": [
    "# palindrome check\n",
    "\n",
    "def palindrome_check(s):\n",
    "    return s == s[::-1]\n",
    "\n",
    "print(palindrome_check(\"madam\"))"
   ]
  },
  {
   "cell_type": "code",
   "execution_count": 12,
   "metadata": {},
   "outputs": [
    {
     "name": "stdout",
     "output_type": "stream",
     "text": [
      "['h', 'o', 'e', 'l']\n"
     ]
    }
   ],
   "source": [
    "# remove duplicates without maintainng order\n",
    "\n",
    "def rem_duplicate(s):\n",
    "    return list(set(s))\n",
    "\n",
    "print(rem_duplicate(\"hello\"))"
   ]
  },
  {
   "cell_type": "code",
   "execution_count": 15,
   "metadata": {},
   "outputs": [
    {
     "name": "stdout",
     "output_type": "stream",
     "text": [
      "helo23\n"
     ]
    }
   ],
   "source": [
    "#remove duplicates by maintaining order of characters\n",
    "\n",
    "def rem_duplicate(s):\n",
    "    result = \"\"\n",
    "    seen_char = set()\n",
    "\n",
    "    for c in s:\n",
    "        if c not in seen_char:\n",
    "            result += c\n",
    "            seen_char.add(c)\n",
    "\n",
    "    return result\n",
    "\n",
    "print(rem_duplicate(\"helloee2l3o\"))"
   ]
  },
  {
   "cell_type": "code",
   "execution_count": 16,
   "metadata": {},
   "outputs": [
    {
     "name": "stdout",
     "output_type": "stream",
     "text": [
      "cannot divide by zero\n"
     ]
    }
   ],
   "source": [
    "# handling exception \n",
    "\n",
    "try :\n",
    "    x = 1 / 0\n",
    "except ZeroDivisionError:\n",
    "    print(\"cannot divide by zero\")"
   ]
  },
  {
   "cell_type": "code",
   "execution_count": 17,
   "metadata": {},
   "outputs": [
    {
     "name": "stdout",
     "output_type": "stream",
     "text": [
      "196\n"
     ]
    }
   ],
   "source": [
    "# what is a lambda function?\n",
    "# --- A mabda function is a small anonymous function. It can take any number of arguments but can only have one expression\n",
    "\n",
    "multiply = lambda x, y : x * y\n",
    "print(multiply(2,98))"
   ]
  },
  {
   "cell_type": "code",
   "execution_count": 31,
   "metadata": {},
   "outputs": [
    {
     "data": {
      "text/plain": [
       "55"
      ]
     },
     "execution_count": 31,
     "metadata": {},
     "output_type": "execute_result"
    }
   ],
   "source": [
    "# writefunction to return nth fibonacci number using recursion\n",
    "\n",
    "def fibonacci_n(n):\n",
    "    if n <= 1:\n",
    "        return n\n",
    "    else:\n",
    "        return fibonacci_n(n-1) + fibonacci_n(n-2)\n",
    "    \n",
    "fibonacci_n(10)"
   ]
  },
  {
   "cell_type": "code",
   "execution_count": null,
   "metadata": {},
   "outputs": [],
   "source": []
  }
 ],
 "metadata": {
  "kernelspec": {
   "display_name": "ml",
   "language": "python",
   "name": "python3"
  },
  "language_info": {
   "codemirror_mode": {
    "name": "ipython",
    "version": 3
   },
   "file_extension": ".py",
   "mimetype": "text/x-python",
   "name": "python",
   "nbconvert_exporter": "python",
   "pygments_lexer": "ipython3",
   "version": "3.11.4"
  }
 },
 "nbformat": 4,
 "nbformat_minor": 2
}
